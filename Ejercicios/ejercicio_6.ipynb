{
 "cells": [
  {
   "cell_type": "code",
   "execution_count": 1,
   "id": "f457b23c",
   "metadata": {},
   "outputs": [
    {
     "name": "stdout",
     "output_type": "stream",
     "text": [
      "La asignación de recursos no es segura. El proceso debe esperar.\n"
     ]
    }
   ],
   "source": [
    "import numpy as np\n",
    "\n",
    "def banquero(allocation, max_demand, available):\n",
    "    need = max_demand - allocation\n",
    "\n",
    "    def is_safe(process, request):\n",
    "        return all(request <= need[process, :]) and all(request <= available) and is_system_safe(process, request)\n",
    "\n",
    "    def is_system_safe(process, request):\n",
    "        work = available - request\n",
    "        finish = np.zeros(allocation.shape[0], dtype=bool)\n",
    "\n",
    "        while True:\n",
    "            idx = np.argmax(~finish * np.all(need <= work, axis=1))\n",
    "            if idx == 0 or not any(~finish):\n",
    "                break\n",
    "            work += allocation[idx, :]\n",
    "            finish[idx] = True\n",
    "\n",
    "        return all(finish)\n",
    "\n",
    "    def request_resources(process, request):\n",
    "        if is_safe(process, request):\n",
    "            allocation[process, :] += request\n",
    "            available -= request\n",
    "            return True\n",
    "        else:\n",
    "            return False\n",
    "\n",
    "    return request_resources\n",
    "\n",
    "\n",
    "def read_matrix(file):\n",
    "    with open(file, 'r') as f:\n",
    "        return np.array([list(map(int, line.strip().split())) for line in f if not line.startswith('-')])\n",
    "\n",
    "\n",
    "file_path = r'C:\\Users\\pablo\\OneDrive\\Escritorio\\sistemas operativos\\matrices.txt'\n",
    "\n",
    "\n",
    "matrices = read_matrix(file_path) #Leemos las matrices\n",
    "allocation_matrix, max_demand_matrix, available_resources = matrices[:3], matrices[:3], matrices[3]\n",
    "\n",
    "# Crear una función de asignación de recursos\n",
    "recursos = banquero(allocation_matrix, max_demand_matrix, available_resources)\n",
    "\n",
    "# Solicitar recursos para el proceso 0\n",
    "request = np.array([1, 1, 2])\n",
    "if recursos(0, request):\n",
    "    print(\"Recursos asignados con éxito.\")\n",
    "else:\n",
    "    print(\"La asignación de recursos no es segura. El proceso debe esperar.\")\n",
    "\n"
   ]
  },
  {
   "cell_type": "code",
   "execution_count": null,
   "id": "537da3f3",
   "metadata": {},
   "outputs": [],
   "source": []
  },
  {
   "cell_type": "code",
   "execution_count": null,
   "id": "ee90a03d",
   "metadata": {},
   "outputs": [],
   "source": []
  }
 ],
 "metadata": {
  "kernelspec": {
   "display_name": "Python 3 (ipykernel)",
   "language": "python",
   "name": "python3"
  },
  "language_info": {
   "codemirror_mode": {
    "name": "ipython",
    "version": 3
   },
   "file_extension": ".py",
   "mimetype": "text/x-python",
   "name": "python",
   "nbconvert_exporter": "python",
   "pygments_lexer": "ipython3",
   "version": "3.9.12"
  }
 },
 "nbformat": 4,
 "nbformat_minor": 5
}
